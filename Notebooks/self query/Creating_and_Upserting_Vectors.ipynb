{
 "cells": [
  {
   "cell_type": "markdown",
   "id": "4928be26",
   "metadata": {},
   "source": [
    "**Libraries Required**"
   ]
  },
  {
   "cell_type": "code",
   "execution_count": null,
   "id": "c1839377",
   "metadata": {},
   "outputs": [],
   "source": [
    "import re\n",
    "import warnings\n",
    "warnings.filterwarnings(\"ignore\")\n",
    "import pandas as pd\n",
    "import json\n",
    "import os\n",
    "import csv\n",
    "from tqdm.auto import tqdm\n",
    "from langchain_openai import OpenAIEmbeddings\n",
    "from pinecone import Pinecone\n",
    "from langchain.text_splitter import RecursiveCharacterTextSplitter"
   ]
  },
  {
   "cell_type": "markdown",
   "id": "18837064",
   "metadata": {},
   "source": [
    "**Extract Metadata**"
   ]
  },
  {
   "cell_type": "code",
   "execution_count": 5,
   "id": "e945d2b9-d86a-4baa-9004-262cffd0387f",
   "metadata": {},
   "outputs": [],
   "source": [
    "\n",
    "\n",
    "# Define a function to extract wine information\n",
    "def extract_wine_info(wine_entry):\n",
    "    # Extract wine name\n",
    "    wine_name = re.search(r\"^(.*?) is priced at\", wine_entry).group(1)\n",
    "    \n",
    "    # Extract vineyard\n",
    "    vineyard_match = re.search(r\"The brand of wine is (.*?)[.,\\n]\", wine_entry)\n",
    "    vineyard = vineyard_match.group(1) if vineyard_match else \"Not specified\"\n",
    "    \n",
    "    # Extract grape varietal\n",
    "    grape_varietal_match = re.search(r\"The grape varietal is (.*?)[.,\\n]\", wine_entry)\n",
    "    grape_varietal = grape_varietal_match.group(1) if grape_varietal_match else \"Not specified\"\n",
    "\n",
    "    # Extract region of origin\n",
    "    region_match = re.search(r\"The region of origin is (.*?)[.,\\n]\", wine_entry)\n",
    "    region = region_match.group(1) if region_match else \"Not specified\"\n",
    "    \n",
    "    # Extract vintage year\n",
    "    vintage_match = re.search(r\"The vintage is (\\d{4})[.*\\n]\", wine_entry)\n",
    "    vintage_year = int(vintage_match.group(1)) if vintage_match else 0\n",
    "    \n",
    "    \n",
    "    price_match = re.search(r\"priced at \\$([\\d.]+)\", wine_entry)\n",
    "    price = int(price_match.group(1)) if price_match else 0\n",
    "\n",
    "    \n",
    "    # Extract pairs well with or best matched\n",
    "    pairing_match = re.search(r\"(?:pair[s]? well with|best matched with) this wine is ([A-Za-z]+)\", wine_entry, re.IGNORECASE)\n",
    "    pairing = pairing_match.group(1) if pairing_match else \"Not specified\"\n",
    "    \n",
    "    return {\n",
    "        \"Wine Name\": wine_name,\n",
    "        \"Vineyard\": vineyard,\n",
    "        \"Grape Varietal\": grape_varietal,\n",
    "        \"Region\": region,\n",
    "        \"Vintage Year\": vintage_year,\n",
    "        \"Price\": price,\n",
    "        \"Pairs Well With or Best Matched\": pairing\n",
    "    }\n",
    "\n",
    "# Open the file of documents\n",
    "with open(\"path\", \"r\") as file:\n",
    "    # Read the content of the file\n",
    "    wine_entries = file.read()\n",
    "\n",
    "# Split wine entries into individual wines\n",
    "wines = wine_entries.strip().split(\"\\n\\n\")\n",
    "\n",
    "# Extract information for each wine\n",
    "wine_info_list = [extract_wine_info(wine) for wine in wines]\n"
   ]
  },
  {
   "cell_type": "code",
   "execution_count": 2,
   "id": "f2538ba2-1a23-460e-9e3b-b05dbf8187a5",
   "metadata": {},
   "outputs": [],
   "source": [
    "# Create a dataframe of all wine information\n",
    "df1 = pd.DataFrame(wine_info_list)\n",
    "df1[\"metadata\"] = wine_info_list\n",
    "pd.set_option('display.max_rows', 500)\n"
   ]
  },
  {
   "cell_type": "code",
   "execution_count": 3,
   "id": "d5ee8c3f-1e28-4dd4-805d-cda3a4d1c739",
   "metadata": {},
   "outputs": [],
   "source": [
    "#Convert in a correct format (metadata)\n",
    "df1 = df1[['Wine Name', 'Vineyard', 'Grape Varietal', 'Region', 'Vintage Year','Price', 'Pairs Well With or Best Matched']]\n",
    "df1['metadata'] = df1.to_dict(orient='records')"
   ]
  },
  {
   "cell_type": "code",
   "execution_count": 4,
   "id": "984588c3-d074-4d67-8937-b7f6693ea4e4",
   "metadata": {},
   "outputs": [],
   "source": [
    "df1['Price']= df1['Price'].astype('int')"
   ]
  },
  {
   "cell_type": "code",
   "execution_count": 6,
   "id": "c57fd2d4-4520-4871-87cd-212af1bab724",
   "metadata": {},
   "outputs": [],
   "source": [
    "df= pd.read_csv(\"../Wine_data.csv\")"
   ]
  },
  {
   "cell_type": "code",
   "execution_count": 6,
   "id": "b4a0d7bf-d0a6-4c9b-9a50-54de759391bb",
   "metadata": {},
   "outputs": [],
   "source": [
    "#add metdata column in previous dataframe\n",
    "df['metadata']= a['metadata'].copy()"
   ]
  },
  {
   "cell_type": "markdown",
   "id": "dd5ca058",
   "metadata": {},
   "source": [
    "**Chunks Creation**"
   ]
  },
  {
   "cell_type": "code",
   "execution_count": 7,
   "id": "10ff9d19-683f-47a6-aa78-8ca52a6d68f5",
   "metadata": {},
   "outputs": [],
   "source": [
    "\n",
    "text_splitter = RecursiveCharacterTextSplitter(chunk_size=1000, chunk_overlap=250)\n",
    "chunk_dfs = []\n",
    "for product in df['Wine Name'].unique():\n",
    "    wine_data = df[df['Wine Name'] == product]['Other Data'].str.cat(sep=' ')\n",
    "    wine_data = wine_data.replace(\"This\", product).replace(\"The\", product)\n",
    "    chunks = text_splitter.split_text(wine_data)\n",
    "    metadata = df[df['Wine Name'] == product]['metadata'].iloc[0]\n",
    "    metadata_json = json.dumps(metadata)\n",
    "    \n",
    "    # Create a DataFrame to store the chunks and metadata\n",
    "    new_df = pd.DataFrame({\n",
    "        'Product Name': [product] * len(chunks),\n",
    "        'Chunkid': range(len(chunks)),\n",
    "        'Chunks': chunks,\n",
    "        'Metadata': metadata_json\n",
    "    })\n",
    "    \n",
    "    # Append the new DataFrame to the list\n",
    "    chunk_dfs.append(new_df)\n",
    "\n",
    "# Concatenate all chunk DataFrames into a single DataFrame\n",
    "chunks_df = pd.concat(chunk_dfs, ignore_index=True)\n"
   ]
  },
  {
   "cell_type": "markdown",
   "id": "8856b645",
   "metadata": {},
   "source": [
    "**Combine Product Name and Chunkid to form unique Id**"
   ]
  },
  {
   "cell_type": "code",
   "execution_count": 8,
   "id": "742e69c1-6e3a-493c-8c88-a626877cefe9",
   "metadata": {
    "scrolled": true
   },
   "outputs": [],
   "source": [
    "#Create a id column using chunkid and product name\n",
    "chunks_df['Chunkid'] = chunks_df['Chunkid'].astype(\"str\")\n",
    "chunks_df['id'] = chunks_df['Product Name'] + \"_\" + chunks_df['Chunkid']\n"
   ]
  },
  {
   "cell_type": "code",
   "execution_count": 12,
   "id": "9bf6aacb-5ec7-4e63-a350-0678571962db",
   "metadata": {},
   "outputs": [
    {
     "data": {
      "text/html": [
       "<div>\n",
       "<style scoped>\n",
       "    .dataframe tbody tr th:only-of-type {\n",
       "        vertical-align: middle;\n",
       "    }\n",
       "\n",
       "    .dataframe tbody tr th {\n",
       "        vertical-align: top;\n",
       "    }\n",
       "\n",
       "    .dataframe thead th {\n",
       "        text-align: right;\n",
       "    }\n",
       "</style>\n",
       "<table border=\"1\" class=\"dataframe\">\n",
       "  <thead>\n",
       "    <tr style=\"text-align: right;\">\n",
       "      <th></th>\n",
       "      <th>Product Name</th>\n",
       "      <th>Chunkid</th>\n",
       "      <th>Chunks</th>\n",
       "      <th>Metadata</th>\n",
       "      <th>id</th>\n",
       "    </tr>\n",
       "  </thead>\n",
       "  <tbody>\n",
       "    <tr>\n",
       "      <th>0</th>\n",
       "      <td>Moorakyne Coonawarra Cabernet Sauvignon</td>\n",
       "      <td>0</td>\n",
       "      <td>Moorakyne Coonawarra Cabernet Sauvignon is pri...</td>\n",
       "      <td>{'Wine Name': 'Moorakyne Coonawarra Cabernet S...</td>\n",
       "      <td>Moorakyne Coonawarra Cabernet Sauvignon_0</td>\n",
       "    </tr>\n",
       "    <tr>\n",
       "      <th>1</th>\n",
       "      <td>Moorakyne Coonawarra Cabernet Sauvignon</td>\n",
       "      <td>1</td>\n",
       "      <td>Cabernet Sauvignon standard drinks per bottle ...</td>\n",
       "      <td>{'Wine Name': 'Moorakyne Coonawarra Cabernet S...</td>\n",
       "      <td>Moorakyne Coonawarra Cabernet Sauvignon_1</td>\n",
       "    </tr>\n",
       "    <tr>\n",
       "      <th>2</th>\n",
       "      <td>Riddoch Coonawarra Cabernet Sauvignon</td>\n",
       "      <td>0</td>\n",
       "      <td>Riddoch Coonawarra Cabernet Sauvignon is price...</td>\n",
       "      <td>{'Wine Name': 'Riddoch Coonawarra Cabernet Sau...</td>\n",
       "      <td>Riddoch Coonawarra Cabernet Sauvignon_0</td>\n",
       "    </tr>\n",
       "    <tr>\n",
       "      <th>3</th>\n",
       "      <td>Riddoch Coonawarra Cabernet Sauvignon</td>\n",
       "      <td>1</td>\n",
       "      <td>drinks per bottle is 8.3. Riddoch Coonawarra C...</td>\n",
       "      <td>{'Wine Name': 'Riddoch Coonawarra Cabernet Sau...</td>\n",
       "      <td>Riddoch Coonawarra Cabernet Sauvignon_1</td>\n",
       "    </tr>\n",
       "    <tr>\n",
       "      <th>4</th>\n",
       "      <td>Riddoch Coonawarra Cabernet Sauvignon</td>\n",
       "      <td>2</td>\n",
       "      <td>a bit of a punch. Long after taste and the win...</td>\n",
       "      <td>{'Wine Name': 'Riddoch Coonawarra Cabernet Sau...</td>\n",
       "      <td>Riddoch Coonawarra Cabernet Sauvignon_2</td>\n",
       "    </tr>\n",
       "  </tbody>\n",
       "</table>\n",
       "</div>"
      ],
      "text/plain": [
       "                              Product Name Chunkid  \\\n",
       "0  Moorakyne Coonawarra Cabernet Sauvignon       0   \n",
       "1  Moorakyne Coonawarra Cabernet Sauvignon       1   \n",
       "2    Riddoch Coonawarra Cabernet Sauvignon       0   \n",
       "3    Riddoch Coonawarra Cabernet Sauvignon       1   \n",
       "4    Riddoch Coonawarra Cabernet Sauvignon       2   \n",
       "\n",
       "                                              Chunks  \\\n",
       "0  Moorakyne Coonawarra Cabernet Sauvignon is pri...   \n",
       "1  Cabernet Sauvignon standard drinks per bottle ...   \n",
       "2  Riddoch Coonawarra Cabernet Sauvignon is price...   \n",
       "3  drinks per bottle is 8.3. Riddoch Coonawarra C...   \n",
       "4  a bit of a punch. Long after taste and the win...   \n",
       "\n",
       "                                            Metadata  \\\n",
       "0  {'Wine Name': 'Moorakyne Coonawarra Cabernet S...   \n",
       "1  {'Wine Name': 'Moorakyne Coonawarra Cabernet S...   \n",
       "2  {'Wine Name': 'Riddoch Coonawarra Cabernet Sau...   \n",
       "3  {'Wine Name': 'Riddoch Coonawarra Cabernet Sau...   \n",
       "4  {'Wine Name': 'Riddoch Coonawarra Cabernet Sau...   \n",
       "\n",
       "                                          id  \n",
       "0  Moorakyne Coonawarra Cabernet Sauvignon_0  \n",
       "1  Moorakyne Coonawarra Cabernet Sauvignon_1  \n",
       "2    Riddoch Coonawarra Cabernet Sauvignon_0  \n",
       "3    Riddoch Coonawarra Cabernet Sauvignon_1  \n",
       "4    Riddoch Coonawarra Cabernet Sauvignon_2  "
      ]
     },
     "execution_count": 12,
     "metadata": {},
     "output_type": "execute_result"
    }
   ],
   "source": [
    "# Function to add 'text' key to metadata dictionary in 'Metadata' column\n",
    "def add_text_to_metadata(df):\n",
    "    # Parse JSON in 'Metadata' column and add 'Chunks' as 'text' key\n",
    "    df['Metadata'] = df.apply(lambda row: json.loads(row['Metadata']) if isinstance(row['Metadata'], str) else {}, axis=1)\n",
    "    df['Metadata'] = df.apply(lambda row: {**row['Metadata'], 'text': row['Chunks']} if isinstance(row['Metadata'], dict) else {}, axis=1)\n",
    "    return df\n",
    "\n",
    "# Call the function to add the 'text' key to metadata\n",
    "chunks_df = add_text_to_metadata(chunks_df)\n",
    "\n",
    "# Now chunks_df will have the 'text' key added to the metadata dictionary\n",
    "chunks_df.head()\n",
    "\n"
   ]
  },
  {
   "cell_type": "markdown",
   "id": "8f6f07b8",
   "metadata": {},
   "source": [
    "**Storing chunks in Pinecone**"
   ]
  },
  {
   "cell_type": "code",
   "execution_count": 14,
   "id": "ddd520f7-7f9d-4078-b1bb-c66ac5486188",
   "metadata": {},
   "outputs": [],
   "source": [
    "# pinecone initialization\n",
    "\n",
    "PINE_CLOUD_ENVIRONMENT = os.getenv(\"gcp-starter\")\n",
    "index_name= \"langchainindex\"\n",
    "pc = Pinecone(api_key= \"\")"
   ]
  },
  {
   "cell_type": "code",
   "execution_count": 16,
   "id": "122eac16-a39d-4e70-a750-7abb9a94c1ba",
   "metadata": {},
   "outputs": [
    {
     "data": {
      "text/plain": [
       "{'dimension': 1536,\n",
       " 'index_fullness': 0.0,\n",
       " 'namespaces': {},\n",
       " 'total_vector_count': 0}"
      ]
     },
     "execution_count": 16,
     "metadata": {},
     "output_type": "execute_result"
    }
   ],
   "source": [
    "# Creating an index object with index_name\n",
    "index = pc.Index(index_name)\n",
    "\n",
    "# Calling the describe_index_stats() method to retrieve statistics about the index\n",
    "index.describe_index_stats()"
   ]
  },
  {
   "cell_type": "code",
   "execution_count": 3,
   "id": "8cd24c33-88e8-45f1-8437-fd8127d53731",
   "metadata": {},
   "outputs": [],
   "source": [
    "#setting the environment variable\n",
    "os.environ[\"OPENAI_API_KEY\"] = \"\" \n",
    "\n",
    "embeddings = OpenAIEmbeddings()\n",
    "\n",
    "# Function to remove non-ASCII characters from text\n",
    "def remove_non_ascii(text):\n",
    "    return re.sub(r'[^\\x00-\\x7F]+', '', text)\n",
    "\n",
    "# Function to convert text to ASCII-compliant IDs\n",
    "def convert_to_ascii_id(text):\n",
    "    return re.sub(r'[^\\x00-\\x7F]+', '_', text)\n",
    "\n",
    "batch_size = 100\n",
    "for i in tqdm(range(0, len(chunks_df), batch_size)):\n",
    "    i_end = min(len(chunks_df), i+batch_size)\n",
    "    batch = chunks_df.iloc[i:i_end]\n",
    "    ids = [convert_to_ascii_id(x['id']) for _, x in batch.iterrows()]\n",
    "    texts = [x['Chunks'] for _, x in batch.iterrows()]\n",
    "    ascii_texts = [remove_non_ascii(text) for text in texts]\n",
    "\n",
    "    # Extract metadata\n",
    "    metadata_dicts = batch['Metadata']\n",
    "\n",
    "    # Embed documents\n",
    "    embedd = embeddings.embed_documents(ascii_texts)\n",
    "\n",
    "    # Upsert documents into Pinecone index\n",
    "    documents = zip(ids, embedd, metadata_dicts)\n",
    "    index.upsert(vectors=documents, namespace='wine')\n"
   ]
  }
 ],
 "metadata": {
  "kernelspec": {
   "display_name": "Python 3 (ipykernel)",
   "language": "python",
   "name": "python3"
  },
  "language_info": {
   "codemirror_mode": {
    "name": "ipython",
    "version": 3
   },
   "file_extension": ".py",
   "mimetype": "text/x-python",
   "name": "python",
   "nbconvert_exporter": "python",
   "pygments_lexer": "ipython3",
   "version": "3.10.12"
  },
  "widgets": {
   "application/vnd.jupyter.widget-state+json": {
    "state": {},
    "version_major": 2,
    "version_minor": 0
   }
  }
 },
 "nbformat": 4,
 "nbformat_minor": 5
}
