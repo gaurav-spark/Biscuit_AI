{
 "cells": [
  {
   "cell_type": "markdown",
   "id": "c62fb5c1",
   "metadata": {},
   "source": [
    "**Libraries Required**\n"
   ]
  },
  {
   "cell_type": "code",
   "execution_count": 9,
   "id": "be1f43fa-0072-44a1-b684-a0079e8a3277",
   "metadata": {},
   "outputs": [],
   "source": [
    "import re\n",
    "import os\n",
    "import pandas as pd\n",
    "import csv\n",
    "from langchain.text_splitter import RecursiveCharacterTextSplitter\n",
    "from langchain_openai import OpenAIEmbeddings\n",
    "from tqdm.auto import tqdm"
   ]
  },
  {
   "cell_type": "markdown",
   "id": "1a5296b8-dd6c-43e7-b096-cf6067f8a924",
   "metadata": {},
   "source": [
    "**Read the document text file**"
   ]
  },
  {
   "cell_type": "code",
   "execution_count": 11,
   "id": "078547ad-1aac-4dc7-ba42-db746fed4b99",
   "metadata": {},
   "outputs": [],
   "source": [
    "with open('../Reformatted_Wine_Descriptions_Enhanced NEW.txt', 'r') as file:\n",
    "    lines = file.readlines() #split file into lines\n"
   ]
  },
  {
   "cell_type": "markdown",
   "id": "40721073-7470-44a9-a11b-be2308a0c42a",
   "metadata": {},
   "source": [
    "**Extract wine name**"
   ]
  },
  {
   "cell_type": "code",
   "execution_count": 4,
   "id": "72afe883-33a0-4509-9f95-7b2f5399220d",
   "metadata": {},
   "outputs": [],
   "source": [
    "# Initialize a dictionary to store wine data\n",
    "wine_data = {}\n",
    "\n",
    "# Extract the names of the wines and other relevant data\n",
    "for line in lines:\n",
    "    if \"is priced\" in line:\n",
    "        wine_name = line.split(\"is priced\")[0].strip()\n",
    "        wine_name = ''.join([i for i in wine_name if not i.isdigit()]) # Remove digits\n",
    "        wine_name = wine_name.strip().rstrip(' mL').rstrip(' L') # Remove mL and L only from the end\n",
    "        \n",
    "        # Extract other relevant data\n",
    "        data = line.split(\"is priced\")[1].strip()\n",
    "        \n",
    "        # Check if the wine name already exists in the dictionary\n",
    "        if wine_name in wine_data:\n",
    "            wine_data[wine_name].append(data)\n",
    "        else:\n",
    "            wine_data[wine_name] = wine_name + \": \" + data  # Include wine name in other data\n",
    "\n",
    "# Write the wine names and other data into a CSV file\n",
    "with open('wine_data.csv', 'w', newline='') as csvfile:\n",
    "    writer = csv.writer(csvfile)\n",
    "    writer.writerow(['Wine Name', 'Other Data'])\n",
    "    for name, data in wine_data.items():\n",
    "        for item in data:\n",
    "            writer.writerow([name, item])\n"
   ]
  },
  {
   "cell_type": "code",
   "execution_count": 12,
   "id": "31593676-15b8-4bc4-8eb1-17c1cf234082",
   "metadata": {},
   "outputs": [
    {
     "data": {
      "text/html": [
       "<div>\n",
       "<style scoped>\n",
       "    .dataframe tbody tr th:only-of-type {\n",
       "        vertical-align: middle;\n",
       "    }\n",
       "\n",
       "    .dataframe tbody tr th {\n",
       "        vertical-align: top;\n",
       "    }\n",
       "\n",
       "    .dataframe thead th {\n",
       "        text-align: right;\n",
       "    }\n",
       "</style>\n",
       "<table border=\"1\" class=\"dataframe\">\n",
       "  <thead>\n",
       "    <tr style=\"text-align: right;\">\n",
       "      <th></th>\n",
       "      <th>Wine Name</th>\n",
       "      <th>Other Data</th>\n",
       "    </tr>\n",
       "  </thead>\n",
       "  <tbody>\n",
       "    <tr>\n",
       "      <th>0</th>\n",
       "      <td>Moorakyne Coonawarra Cabernet Sauvignon</td>\n",
       "      <td>Moorakyne Coonawarra Cabernet Sauvignon: at $2...</td>\n",
       "    </tr>\n",
       "    <tr>\n",
       "      <th>1</th>\n",
       "      <td>Riddoch Coonawarra Cabernet Sauvignon</td>\n",
       "      <td>Riddoch Coonawarra Cabernet Sauvignon: at $15 ...</td>\n",
       "    </tr>\n",
       "    <tr>\n",
       "      <th>2</th>\n",
       "      <td>Riddoch Coonawarra Cabernet Sauvignon</td>\n",
       "      <td>at $10 per bottle. The grape varietal is Caber...</td>\n",
       "    </tr>\n",
       "    <tr>\n",
       "      <th>3</th>\n",
       "      <td>Chapel Hill The Parson Cabernet Sauvignon</td>\n",
       "      <td>Chapel Hill The Parson Cabernet Sauvignon: at ...</td>\n",
       "    </tr>\n",
       "    <tr>\n",
       "      <th>4</th>\n",
       "      <td>Krondorf Winemakers Cabernet Sauvignon</td>\n",
       "      <td>Krondorf Winemakers Cabernet Sauvignon: at $20...</td>\n",
       "    </tr>\n",
       "    <tr>\n",
       "      <th>...</th>\n",
       "      <td>...</td>\n",
       "      <td>...</td>\n",
       "    </tr>\n",
       "    <tr>\n",
       "      <th>487</th>\n",
       "      <td>Yellowglen White</td>\n",
       "      <td>Yellowglen White: at $10 per bottle. This prod...</td>\n",
       "    </tr>\n",
       "    <tr>\n",
       "      <th>488</th>\n",
       "      <td>Brown Brothers Zibibbo</td>\n",
       "      <td>Brown Brothers Zibibbo: at $850 per bottle. Th...</td>\n",
       "    </tr>\n",
       "    <tr>\n",
       "      <th>489</th>\n",
       "      <td>Yellow Tail Sparkling Cocktails Mimosa Blood O...</td>\n",
       "      <td>Yellow Tail Sparkling Cocktails Mimosa Blood O...</td>\n",
       "    </tr>\n",
       "    <tr>\n",
       "      <th>490</th>\n",
       "      <td>Jacob's Creek Sparkling Moscato</td>\n",
       "      <td>Jacob's Creek Sparkling Moscato: at $940 per b...</td>\n",
       "    </tr>\n",
       "    <tr>\n",
       "      <th>491</th>\n",
       "      <td>Riccadonna Ruby NV</td>\n",
       "      <td>Riccadonna Ruby NV: at $1,050 per bottle. This...</td>\n",
       "    </tr>\n",
       "  </tbody>\n",
       "</table>\n",
       "<p>492 rows × 2 columns</p>\n",
       "</div>"
      ],
      "text/plain": [
       "                                             Wine Name  \\\n",
       "0              Moorakyne Coonawarra Cabernet Sauvignon   \n",
       "1                Riddoch Coonawarra Cabernet Sauvignon   \n",
       "2                Riddoch Coonawarra Cabernet Sauvignon   \n",
       "3            Chapel Hill The Parson Cabernet Sauvignon   \n",
       "4               Krondorf Winemakers Cabernet Sauvignon   \n",
       "..                                                 ...   \n",
       "487                                   Yellowglen White   \n",
       "488                             Brown Brothers Zibibbo   \n",
       "489  Yellow Tail Sparkling Cocktails Mimosa Blood O...   \n",
       "490                    Jacob's Creek Sparkling Moscato   \n",
       "491                                 Riccadonna Ruby NV   \n",
       "\n",
       "                                            Other Data  \n",
       "0    Moorakyne Coonawarra Cabernet Sauvignon: at $2...  \n",
       "1    Riddoch Coonawarra Cabernet Sauvignon: at $15 ...  \n",
       "2    at $10 per bottle. The grape varietal is Caber...  \n",
       "3    Chapel Hill The Parson Cabernet Sauvignon: at ...  \n",
       "4    Krondorf Winemakers Cabernet Sauvignon: at $20...  \n",
       "..                                                 ...  \n",
       "487  Yellowglen White: at $10 per bottle. This prod...  \n",
       "488  Brown Brothers Zibibbo: at $850 per bottle. Th...  \n",
       "489  Yellow Tail Sparkling Cocktails Mimosa Blood O...  \n",
       "490  Jacob's Creek Sparkling Moscato: at $940 per b...  \n",
       "491  Riccadonna Ruby NV: at $1,050 per bottle. This...  \n",
       "\n",
       "[492 rows x 2 columns]"
      ]
     },
     "execution_count": 12,
     "metadata": {},
     "output_type": "execute_result"
    }
   ],
   "source": [
    "df= pd.read_csv(\"../wine_data.csv\")\n",
    "df"
   ]
  },
  {
   "cell_type": "markdown",
   "id": "6bd494dc-b6ec-4ea4-bfe5-d2140d3180f4",
   "metadata": {},
   "source": [
    "**Groupby wine data under Unique wine name**"
   ]
  },
  {
   "cell_type": "code",
   "execution_count": 13,
   "id": "6ff092e2-0f91-43e1-af9b-d2042f47ace1",
   "metadata": {},
   "outputs": [
    {
     "data": {
      "text/html": [
       "<div>\n",
       "<style scoped>\n",
       "    .dataframe tbody tr th:only-of-type {\n",
       "        vertical-align: middle;\n",
       "    }\n",
       "\n",
       "    .dataframe tbody tr th {\n",
       "        vertical-align: top;\n",
       "    }\n",
       "\n",
       "    .dataframe thead th {\n",
       "        text-align: right;\n",
       "    }\n",
       "</style>\n",
       "<table border=\"1\" class=\"dataframe\">\n",
       "  <thead>\n",
       "    <tr style=\"text-align: right;\">\n",
       "      <th></th>\n",
       "      <th>Wine Name</th>\n",
       "      <th>Other Data</th>\n",
       "    </tr>\n",
       "  </thead>\n",
       "  <tbody>\n",
       "    <tr>\n",
       "      <th>0</th>\n",
       "      <td>Altos R Crianza Rioja</td>\n",
       "      <td>Altos R Crianza Rioja: at $1,470 per bottle. T...</td>\n",
       "    </tr>\n",
       "    <tr>\n",
       "      <th>1</th>\n",
       "      <td>Amelia &amp; Trent Burge Versus Cuvee Brut</td>\n",
       "      <td>Amelia &amp; Trent Burge Versus Cuvee Brut: at $20...</td>\n",
       "    </tr>\n",
       "    <tr>\n",
       "      <th>2</th>\n",
       "      <td>Angullong Sparkling Rosé</td>\n",
       "      <td>Angullong Sparkling Rosé: at $23 per bottle. T...</td>\n",
       "    </tr>\n",
       "    <tr>\n",
       "      <th>3</th>\n",
       "      <td>Arrogant Frog Rosé</td>\n",
       "      <td>Arrogant Frog Rosé: at $13 per bottle. This pr...</td>\n",
       "    </tr>\n",
       "    <tr>\n",
       "      <th>4</th>\n",
       "      <td>Artemis Pinot Noir</td>\n",
       "      <td>Artemis Pinot Noir: at $25 per bottle. This pr...</td>\n",
       "    </tr>\n",
       "    <tr>\n",
       "      <th>...</th>\n",
       "      <td>...</td>\n",
       "      <td>...</td>\n",
       "    </tr>\n",
       "    <tr>\n",
       "      <th>478</th>\n",
       "      <td>Yering Station Little Yering Pinot Noir</td>\n",
       "      <td>Yering Station Little Yering Pinot Noir: at $2...</td>\n",
       "    </tr>\n",
       "    <tr>\n",
       "      <th>479</th>\n",
       "      <td>Zonin Friuli Pinot Grigio</td>\n",
       "      <td>Zonin Friuli Pinot Grigio: at $17 per bottle. ...</td>\n",
       "    </tr>\n",
       "    <tr>\n",
       "      <th>480</th>\n",
       "      <td>Zonin Ventiterre Moscato</td>\n",
       "      <td>Zonin Ventiterre Moscato: at $16 per bottle. T...</td>\n",
       "    </tr>\n",
       "    <tr>\n",
       "      <th>481</th>\n",
       "      <td>Zonzo Estate Moscato</td>\n",
       "      <td>Zonzo Estate Moscato: at $25 per bottle. This ...</td>\n",
       "    </tr>\n",
       "    <tr>\n",
       "      <th>482</th>\n",
       "      <td>d'Arenberg The Olive Grove Chardonnay</td>\n",
       "      <td>d'Arenberg The Olive Grove Chardonnay: at $16 ...</td>\n",
       "    </tr>\n",
       "  </tbody>\n",
       "</table>\n",
       "<p>483 rows × 2 columns</p>\n",
       "</div>"
      ],
      "text/plain": [
       "                                   Wine Name  \\\n",
       "0                      Altos R Crianza Rioja   \n",
       "1     Amelia & Trent Burge Versus Cuvee Brut   \n",
       "2                   Angullong Sparkling Rosé   \n",
       "3                         Arrogant Frog Rosé   \n",
       "4                         Artemis Pinot Noir   \n",
       "..                                       ...   \n",
       "478  Yering Station Little Yering Pinot Noir   \n",
       "479                Zonin Friuli Pinot Grigio   \n",
       "480                 Zonin Ventiterre Moscato   \n",
       "481                     Zonzo Estate Moscato   \n",
       "482    d'Arenberg The Olive Grove Chardonnay   \n",
       "\n",
       "                                            Other Data  \n",
       "0    Altos R Crianza Rioja: at $1,470 per bottle. T...  \n",
       "1    Amelia & Trent Burge Versus Cuvee Brut: at $20...  \n",
       "2    Angullong Sparkling Rosé: at $23 per bottle. T...  \n",
       "3    Arrogant Frog Rosé: at $13 per bottle. This pr...  \n",
       "4    Artemis Pinot Noir: at $25 per bottle. This pr...  \n",
       "..                                                 ...  \n",
       "478  Yering Station Little Yering Pinot Noir: at $2...  \n",
       "479  Zonin Friuli Pinot Grigio: at $17 per bottle. ...  \n",
       "480  Zonin Ventiterre Moscato: at $16 per bottle. T...  \n",
       "481  Zonzo Estate Moscato: at $25 per bottle. This ...  \n",
       "482  d'Arenberg The Olive Grove Chardonnay: at $16 ...  \n",
       "\n",
       "[483 rows x 2 columns]"
      ]
     },
     "execution_count": 13,
     "metadata": {},
     "output_type": "execute_result"
    }
   ],
   "source": [
    "# Define a custom aggregation function to concatenate text\n",
    "def combine_text(data):\n",
    "    return ', '.join(data)\n",
    "\n",
    "# Group by wine name and aggregate the \"Other Data\" column\n",
    "grouped_df = df.groupby('Wine Name')['Other Data'].agg(combine_text).reset_index()\n",
    "\n",
    "# Print the grouped DataFrame\n",
    "grouped_df\n"
   ]
  },
  {
   "cell_type": "markdown",
   "id": "1fefad24-e18b-4ba4-aef6-8d6b964f757d",
   "metadata": {},
   "source": [
    "**Chunk Creation**"
   ]
  },
  {
   "cell_type": "code",
   "execution_count": 11,
   "id": "bd982f97-5b35-44a7-b21f-c465796caa8c",
   "metadata": {},
   "outputs": [],
   "source": [
    "text_splitter = RecursiveCharacterTextSplitter(chunk_size=1000, chunk_overlap=250)\n",
    "chunks_df = pd.DataFrame()\n",
    "for product in grouped_df['Wine Name'].values:\n",
    "    new_df = pd.DataFrame()\n",
    "    data = grouped_df[grouped_df['Wine Name'] == product]['Other Data'].str.cat(sep=' ')\n",
    "\n",
    "    data = data.replace(\"This\",product).replace(\"The\",product)\n",
    "    \n",
    "   \n",
    "    chunks = text_splitter.split_text(data)\n",
    "    new_df = pd.DataFrame({\n",
    "        'Product Name': [product] * len(chunks),\n",
    "        'Chunkid': range(len(chunks)),\n",
    "        'Chunks': chunks,\n",
    "       \n",
    "    })\n",
    "\n",
    "    chunks_df = pd.concat([chunks_df, new_df])"
   ]
  },
  {
   "cell_type": "code",
   "execution_count": 12,
   "id": "d96a9d1c-0f36-4259-92d2-4767c525406d",
   "metadata": {},
   "outputs": [
    {
     "data": {
      "text/html": [
       "<div>\n",
       "<style scoped>\n",
       "    .dataframe tbody tr th:only-of-type {\n",
       "        vertical-align: middle;\n",
       "    }\n",
       "\n",
       "    .dataframe tbody tr th {\n",
       "        vertical-align: top;\n",
       "    }\n",
       "\n",
       "    .dataframe thead th {\n",
       "        text-align: right;\n",
       "    }\n",
       "</style>\n",
       "<table border=\"1\" class=\"dataframe\">\n",
       "  <thead>\n",
       "    <tr style=\"text-align: right;\">\n",
       "      <th></th>\n",
       "      <th>Product Name</th>\n",
       "      <th>Chunkid</th>\n",
       "      <th>Chunks</th>\n",
       "    </tr>\n",
       "  </thead>\n",
       "  <tbody>\n",
       "    <tr>\n",
       "      <th>0</th>\n",
       "      <td>Altos R Crianza Rioja</td>\n",
       "      <td>0</td>\n",
       "      <td>Altos R Crianza Rioja: at $1,470 per bottle. A...</td>\n",
       "    </tr>\n",
       "    <tr>\n",
       "      <th>1</th>\n",
       "      <td>Altos R Crianza Rioja</td>\n",
       "      <td>1</td>\n",
       "      <td>Rioja product number is 762176. Altos R Crianz...</td>\n",
       "    </tr>\n",
       "    <tr>\n",
       "      <th>0</th>\n",
       "      <td>Amelia &amp; Trent Burge Versus Cuvee Brut</td>\n",
       "      <td>0</td>\n",
       "      <td>Amelia &amp; Trent Burge Versus Cuvee Brut: at $20...</td>\n",
       "    </tr>\n",
       "    <tr>\n",
       "      <th>1</th>\n",
       "      <td>Amelia &amp; Trent Burge Versus Cuvee Brut</td>\n",
       "      <td>1</td>\n",
       "      <td>&amp; Trent Burge Versus Cuvee Brut bottle closure...</td>\n",
       "    </tr>\n",
       "    <tr>\n",
       "      <th>0</th>\n",
       "      <td>Angullong Sparkling Rosé</td>\n",
       "      <td>0</td>\n",
       "      <td>Angullong Sparkling Rosé: at $23 per bottle. A...</td>\n",
       "    </tr>\n",
       "    <tr>\n",
       "      <th>...</th>\n",
       "      <td>...</td>\n",
       "      <td>...</td>\n",
       "      <td>...</td>\n",
       "    </tr>\n",
       "    <tr>\n",
       "      <th>1</th>\n",
       "      <td>Zonin Ventiterre Moscato</td>\n",
       "      <td>1</td>\n",
       "      <td>review titled \"Enjoyable\" says: \"bought this t...</td>\n",
       "    </tr>\n",
       "    <tr>\n",
       "      <th>0</th>\n",
       "      <td>Zonzo Estate Moscato</td>\n",
       "      <td>0</td>\n",
       "      <td>Zonzo Estate Moscato: at $25 per bottle. Zonzo...</td>\n",
       "    </tr>\n",
       "    <tr>\n",
       "      <th>1</th>\n",
       "      <td>Zonzo Estate Moscato</td>\n",
       "      <td>1</td>\n",
       "      <td>Zonzo Estate Moscato product number is 65789. ...</td>\n",
       "    </tr>\n",
       "    <tr>\n",
       "      <th>0</th>\n",
       "      <td>d'Arenberg The Olive Grove Chardonnay</td>\n",
       "      <td>0</td>\n",
       "      <td>d'Arenberg d'Arenberg The Olive Grove Chardonn...</td>\n",
       "    </tr>\n",
       "    <tr>\n",
       "      <th>1</th>\n",
       "      <td>d'Arenberg The Olive Grove Chardonnay</td>\n",
       "      <td>1</td>\n",
       "      <td>d'Arenberg The Olive Grove Chardonnay standard...</td>\n",
       "    </tr>\n",
       "  </tbody>\n",
       "</table>\n",
       "<p>950 rows × 3 columns</p>\n",
       "</div>"
      ],
      "text/plain": [
       "                              Product Name  Chunkid  \\\n",
       "0                    Altos R Crianza Rioja        0   \n",
       "1                    Altos R Crianza Rioja        1   \n",
       "0   Amelia & Trent Burge Versus Cuvee Brut        0   \n",
       "1   Amelia & Trent Burge Versus Cuvee Brut        1   \n",
       "0                 Angullong Sparkling Rosé        0   \n",
       "..                                     ...      ...   \n",
       "1                 Zonin Ventiterre Moscato        1   \n",
       "0                     Zonzo Estate Moscato        0   \n",
       "1                     Zonzo Estate Moscato        1   \n",
       "0    d'Arenberg The Olive Grove Chardonnay        0   \n",
       "1    d'Arenberg The Olive Grove Chardonnay        1   \n",
       "\n",
       "                                               Chunks  \n",
       "0   Altos R Crianza Rioja: at $1,470 per bottle. A...  \n",
       "1   Rioja product number is 762176. Altos R Crianz...  \n",
       "0   Amelia & Trent Burge Versus Cuvee Brut: at $20...  \n",
       "1   & Trent Burge Versus Cuvee Brut bottle closure...  \n",
       "0   Angullong Sparkling Rosé: at $23 per bottle. A...  \n",
       "..                                                ...  \n",
       "1   review titled \"Enjoyable\" says: \"bought this t...  \n",
       "0   Zonzo Estate Moscato: at $25 per bottle. Zonzo...  \n",
       "1   Zonzo Estate Moscato product number is 65789. ...  \n",
       "0   d'Arenberg d'Arenberg The Olive Grove Chardonn...  \n",
       "1   d'Arenberg The Olive Grove Chardonnay standard...  \n",
       "\n",
       "[950 rows x 3 columns]"
      ]
     },
     "execution_count": 12,
     "metadata": {},
     "output_type": "execute_result"
    }
   ],
   "source": [
    "chunks_df"
   ]
  },
  {
   "cell_type": "markdown",
   "id": "894b9445-d664-43d3-ac04-a67bcf5ad2c0",
   "metadata": {},
   "source": [
    "**Combine Product name with Chunkid**"
   ]
  },
  {
   "cell_type": "code",
   "execution_count": 13,
   "id": "58e20051-d06b-4be5-88c7-1dea5e2f5733",
   "metadata": {},
   "outputs": [
    {
     "data": {
      "text/html": [
       "<div>\n",
       "<style scoped>\n",
       "    .dataframe tbody tr th:only-of-type {\n",
       "        vertical-align: middle;\n",
       "    }\n",
       "\n",
       "    .dataframe tbody tr th {\n",
       "        vertical-align: top;\n",
       "    }\n",
       "\n",
       "    .dataframe thead th {\n",
       "        text-align: right;\n",
       "    }\n",
       "</style>\n",
       "<table border=\"1\" class=\"dataframe\">\n",
       "  <thead>\n",
       "    <tr style=\"text-align: right;\">\n",
       "      <th></th>\n",
       "      <th>Product Name</th>\n",
       "      <th>Chunkid</th>\n",
       "      <th>Chunks</th>\n",
       "      <th>id</th>\n",
       "    </tr>\n",
       "  </thead>\n",
       "  <tbody>\n",
       "    <tr>\n",
       "      <th>0</th>\n",
       "      <td>Altos R Crianza Rioja</td>\n",
       "      <td>0</td>\n",
       "      <td>Altos R Crianza Rioja: at $1,470 per bottle. A...</td>\n",
       "      <td>Altos R Crianza Rioja_0</td>\n",
       "    </tr>\n",
       "    <tr>\n",
       "      <th>1</th>\n",
       "      <td>Altos R Crianza Rioja</td>\n",
       "      <td>1</td>\n",
       "      <td>Rioja product number is 762176. Altos R Crianz...</td>\n",
       "      <td>Altos R Crianza Rioja_1</td>\n",
       "    </tr>\n",
       "    <tr>\n",
       "      <th>0</th>\n",
       "      <td>Amelia &amp; Trent Burge Versus Cuvee Brut</td>\n",
       "      <td>0</td>\n",
       "      <td>Amelia &amp; Trent Burge Versus Cuvee Brut: at $20...</td>\n",
       "      <td>Amelia &amp; Trent Burge Versus Cuvee Brut_0</td>\n",
       "    </tr>\n",
       "    <tr>\n",
       "      <th>1</th>\n",
       "      <td>Amelia &amp; Trent Burge Versus Cuvee Brut</td>\n",
       "      <td>1</td>\n",
       "      <td>&amp; Trent Burge Versus Cuvee Brut bottle closure...</td>\n",
       "      <td>Amelia &amp; Trent Burge Versus Cuvee Brut_1</td>\n",
       "    </tr>\n",
       "    <tr>\n",
       "      <th>0</th>\n",
       "      <td>Angullong Sparkling Rosé</td>\n",
       "      <td>0</td>\n",
       "      <td>Angullong Sparkling Rosé: at $23 per bottle. A...</td>\n",
       "      <td>Angullong Sparkling Rosé_0</td>\n",
       "    </tr>\n",
       "  </tbody>\n",
       "</table>\n",
       "</div>"
      ],
      "text/plain": [
       "                             Product Name Chunkid  \\\n",
       "0                   Altos R Crianza Rioja       0   \n",
       "1                   Altos R Crianza Rioja       1   \n",
       "0  Amelia & Trent Burge Versus Cuvee Brut       0   \n",
       "1  Amelia & Trent Burge Versus Cuvee Brut       1   \n",
       "0                Angullong Sparkling Rosé       0   \n",
       "\n",
       "                                              Chunks  \\\n",
       "0  Altos R Crianza Rioja: at $1,470 per bottle. A...   \n",
       "1  Rioja product number is 762176. Altos R Crianz...   \n",
       "0  Amelia & Trent Burge Versus Cuvee Brut: at $20...   \n",
       "1  & Trent Burge Versus Cuvee Brut bottle closure...   \n",
       "0  Angullong Sparkling Rosé: at $23 per bottle. A...   \n",
       "\n",
       "                                         id  \n",
       "0                   Altos R Crianza Rioja_0  \n",
       "1                   Altos R Crianza Rioja_1  \n",
       "0  Amelia & Trent Burge Versus Cuvee Brut_0  \n",
       "1  Amelia & Trent Burge Versus Cuvee Brut_1  \n",
       "0                Angullong Sparkling Rosé_0  "
      ]
     },
     "execution_count": 13,
     "metadata": {},
     "output_type": "execute_result"
    }
   ],
   "source": [
    "chunks_df['Chunkid'] = chunks_df['Chunkid'].astype(\"str\")\n",
    "chunks_df['id'] = chunks_df['Product Name'] + \"_\" + chunks_df['Chunkid']\n",
    "chunks_df.head()"
   ]
  },
  {
   "cell_type": "markdown",
   "id": "0d298842-2eaf-44f5-ad9e-31271005a003",
   "metadata": {},
   "source": [
    "**Add metadata to our data**"
   ]
  },
  {
   "cell_type": "code",
   "execution_count": 14,
   "id": "216de10a-5bf5-4259-b41b-552f8c7f503f",
   "metadata": {},
   "outputs": [],
   "source": [
    "chunks_df['source']=  '../Reformatted_Wine_Descriptions_Enhanced NEW (2).txt'\n",
    "chunks_df['title']= chunks_df['Product Name']"
   ]
  },
  {
   "cell_type": "markdown",
   "id": "0097135f-f4a9-4c9b-aaad-136eef351230",
   "metadata": {},
   "source": [
    "**Embeddings creation and storing in Pinecone**"
   ]
  },
  {
   "cell_type": "code",
   "execution_count": 18,
   "id": "8479b822-dbe5-4064-82b2-7bbf85b95268",
   "metadata": {},
   "outputs": [],
   "source": [
    "PINE_CLOUD_ENVIRONMENT = os.getenv(\"gcp-starter\")\n",
    "index_name= \"chainindex\"\n",
    "from pinecone import Pinecone\n",
    "pc = Pinecone(api_key= \"\")"
   ]
  },
  {
   "cell_type": "code",
   "execution_count": 19,
   "id": "f425b55d-f16c-4dc8-a631-125f375e6eba",
   "metadata": {},
   "outputs": [
    {
     "data": {
      "text/plain": [
       "{'dimension': 1536,\n",
       " 'index_fullness': 0.019,\n",
       " 'namespaces': {'test1': {'vector_count': 950}, 'wine': {'vector_count': 950}},\n",
       " 'total_vector_count': 1900}"
      ]
     },
     "execution_count": 19,
     "metadata": {},
     "output_type": "execute_result"
    }
   ],
   "source": [
    "index = pc.Index(index_name)\n",
    "index.describe_index_stats()"
   ]
  },
  {
   "cell_type": "code",
   "execution_count": 20,
   "id": "7065a9ae-7ef0-46fb-8210-c4e356ae135c",
   "metadata": {},
   "outputs": [
    {
     "name": "stderr",
     "output_type": "stream",
     "text": [
      "100%|███████████████████████████████████████████| 10/10 [02:31<00:00, 15.14s/it]\n"
     ]
    }
   ],
   "source": [
    "# Set OpenAI API key\n",
    "os.environ[\"OPENAI_API_KEY\"] = \"\" \n",
    "\n",
    "# Initialize OpenAI embeddings\n",
    "embeddings = OpenAIEmbeddings()\n",
    "\n",
    "batch_size = 100\n",
    "\n",
    "# function to remove non-ASCII characters from text\n",
    "def remove_non_ascii(text):\n",
    "    return re.sub(r'[^\\x00-\\x7F]+', '', text)\n",
    "\n",
    "# function to convert text to ASCII-compliant IDs\n",
    "def convert_to_ascii_id(text):\n",
    "    return re.sub(r'[^\\x00-\\x7F]+', '_', text)\n",
    "\n",
    "for i in tqdm(range(0, len(chunks_df), batch_size)):\n",
    "    i_end = min(len(chunks_df), i+batch_size)\n",
    "    # get batch of df\n",
    "    batch = chunks_df.iloc[i:i_end]\n",
    "    # get IDs\n",
    "    ids = [convert_to_ascii_id(x['id']) for _, x in batch.iterrows()]\n",
    "    # get text to embed\n",
    "    texts = [x['Chunks'] for _, x in batch.iterrows()]\n",
    "\n",
    "    # remove non-ASCII characters from text\n",
    "    ascii_texts = [remove_non_ascii(text) for text in texts]\n",
    "\n",
    "    # embed documents\n",
    "    embedd = embeddings.embed_documents(ascii_texts)\n",
    "\n",
    "    # get metadata to store in Pinecone\n",
    "    metadata = [\n",
    "        {'text': text,\n",
    "         'source': x['source'],\n",
    "         'title': x['title']} for text, (_, x) in zip(ascii_texts, batch.iterrows())\n",
    "    ]\n",
    "    index.upsert(vectors=zip(ids, embedd, metadata), namespace= 'wine')\n"
   ]
  },
  {
   "cell_type": "code",
   "execution_count": null,
   "id": "b112a45b-1b99-4406-aaee-559b2073fa6b",
   "metadata": {},
   "outputs": [],
   "source": []
  },
  {
   "cell_type": "code",
   "execution_count": null,
   "id": "83681d9c-0c0a-4b12-adea-d539016546c4",
   "metadata": {},
   "outputs": [],
   "source": []
  },
  {
   "cell_type": "code",
   "execution_count": null,
   "id": "1d505b21-5894-468b-938c-e80f0b53dd16",
   "metadata": {},
   "outputs": [],
   "source": []
  },
  {
   "cell_type": "code",
   "execution_count": null,
   "id": "2341a5fa-2b0c-484a-a8b3-28ef5ab3274e",
   "metadata": {},
   "outputs": [],
   "source": []
  },
  {
   "cell_type": "code",
   "execution_count": null,
   "id": "2da120cc-9228-4b07-b4a6-75aaeab19f0e",
   "metadata": {},
   "outputs": [],
   "source": []
  }
 ],
 "metadata": {
  "kernelspec": {
   "display_name": "Python 3 (ipykernel)",
   "language": "python",
   "name": "python3"
  },
  "language_info": {
   "codemirror_mode": {
    "name": "ipython",
    "version": 3
   },
   "file_extension": ".py",
   "mimetype": "text/x-python",
   "name": "python",
   "nbconvert_exporter": "python",
   "pygments_lexer": "ipython3",
   "version": "3.10.12"
  },
  "widgets": {
   "application/vnd.jupyter.widget-state+json": {
    "state": {
     "006ef77fc53e4f6c9906a5f64da7af09": {
      "model_module": "@jupyter-widgets/base",
      "model_module_version": "2.0.0",
      "model_name": "LayoutModel",
      "state": {}
     },
     "01b0c70bc1b747af8142951e94cf088f": {
      "model_module": "@jupyter-widgets/controls",
      "model_module_version": "2.0.0",
      "model_name": "FloatProgressModel",
      "state": {
       "bar_style": "success",
       "layout": "IPY_MODEL_1cc289e4e1584c6789bda33107bd0f4a",
       "max": 10,
       "style": "IPY_MODEL_4dad5a8e0e4d422692fdae6d65d9c0d3",
       "value": 10
      }
     },
     "020561f3d2104f419a6ff92ab390c2e6": {
      "model_module": "@jupyter-widgets/controls",
      "model_module_version": "2.0.0",
      "model_name": "HTMLStyleModel",
      "state": {
       "description_width": "",
       "font_size": null,
       "text_color": null
      }
     },
     "022c6a16c5c24a29bdfaf8e3e8a85641": {
      "model_module": "@jupyter-widgets/controls",
      "model_module_version": "2.0.0",
      "model_name": "HTMLStyleModel",
      "state": {
       "description_width": "",
       "font_size": null,
       "text_color": null
      }
     },
     "029dd39ea86f41ab83c804fff1bb3b6d": {
      "model_module": "@jupyter-widgets/controls",
      "model_module_version": "2.0.0",
      "model_name": "HTMLModel",
      "state": {
       "layout": "IPY_MODEL_060b6f52c4344fc281803bb3cca18a81",
       "style": "IPY_MODEL_f5df4019468c41859a928f0b1f5411ef",
       "value": " 31/31 [09:31&lt;00:00, 19.12s/it]"
      }
     },
     "0453ff22c2b648648378eb0ffe6881b3": {
      "model_module": "@jupyter-widgets/controls",
      "model_module_version": "2.0.0",
      "model_name": "HTMLStyleModel",
      "state": {
       "description_width": "",
       "font_size": null,
       "text_color": null
      }
     },
     "04ecb9d2822d40e1881e4a7587f76e8d": {
      "model_module": "@jupyter-widgets/controls",
      "model_module_version": "2.0.0",
      "model_name": "ProgressStyleModel",
      "state": {
       "description_width": ""
      }
     },
     "0523ead2e41d4cf892da5113fc7c8253": {
      "model_module": "@jupyter-widgets/controls",
      "model_module_version": "2.0.0",
      "model_name": "HTMLModel",
      "state": {
       "layout": "IPY_MODEL_28324d3f51bf4c3e92814edeccf8a4bb",
       "style": "IPY_MODEL_313b76c0017f45a6a6875322f11bd348",
       "value": " 0/31 [00:04&lt;?, ?it/s]"
      }
     },
     "053ac932cd7e411c9e64423777b5dc3a": {
      "model_module": "@jupyter-widgets/base",
      "model_module_version": "2.0.0",
      "model_name": "LayoutModel",
      "state": {}
     },
     "060b6f52c4344fc281803bb3cca18a81": {
      "model_module": "@jupyter-widgets/base",
      "model_module_version": "2.0.0",
      "model_name": "LayoutModel",
      "state": {}
     },
     "0892c4c033d44231a4b782206ff5c37d": {
      "model_module": "@jupyter-widgets/base",
      "model_module_version": "2.0.0",
      "model_name": "LayoutModel",
      "state": {}
     },
     "08b938c6584f4a76a80a45d9261a727e": {
      "model_module": "@jupyter-widgets/controls",
      "model_module_version": "2.0.0",
      "model_name": "HTMLModel",
      "state": {
       "layout": "IPY_MODEL_902aa32162c24149bba11d96813bba25",
       "style": "IPY_MODEL_ddf76a8630454cabb8ffa45c47fd9506",
       "value": "  0%"
      }
     },
     "09b1deec7f904093aeff6b8be49978dd": {
      "model_module": "@jupyter-widgets/controls",
      "model_module_version": "2.0.0",
      "model_name": "HTMLStyleModel",
      "state": {
       "description_width": "",
       "font_size": null,
       "text_color": null
      }
     },
     "0b93d4e0ed5047cbb5eba9bb66b6a87e": {
      "model_module": "@jupyter-widgets/controls",
      "model_module_version": "2.0.0",
      "model_name": "HTMLModel",
      "state": {
       "layout": "IPY_MODEL_5cdbb18d2d9a4014bf5d42efde0b8155",
       "style": "IPY_MODEL_56fa474a10a2478681817998957632eb",
       "value": "100%"
      }
     },
     "0d25b82c3a1945b681118f2c49819108": {
      "model_module": "@jupyter-widgets/base",
      "model_module_version": "2.0.0",
      "model_name": "LayoutModel",
      "state": {}
     },
     "11b60b12650e402a95d787ca367d545a": {
      "model_module": "@jupyter-widgets/base",
      "model_module_version": "2.0.0",
      "model_name": "LayoutModel",
      "state": {}
     },
     "1466076c38894d58b4cc2bde479c2180": {
      "model_module": "@jupyter-widgets/controls",
      "model_module_version": "2.0.0",
      "model_name": "HBoxModel",
      "state": {
       "children": [
        "IPY_MODEL_2dfc3aad356846e0940bca1e12282435",
        "IPY_MODEL_ecab2e56a5914b58af02e512288e35ae",
        "IPY_MODEL_2b2000b2c07c4cbd8541b9728c2722ef"
       ],
       "layout": "IPY_MODEL_9efa25eb99a34ca4a4801ff3cf2113fb"
      }
     },
     "151d3c4a7d5148c8891736446a704f98": {
      "model_module": "@jupyter-widgets/controls",
      "model_module_version": "2.0.0",
      "model_name": "HBoxModel",
      "state": {
       "children": [
        "IPY_MODEL_9d15cf7ad3874dae842e9dbd7cabf94e",
        "IPY_MODEL_fec016a76ee24cdc93ec673842b455e5",
        "IPY_MODEL_d2fe84653cbd454f9e6cadabd57873c4"
       ],
       "layout": "IPY_MODEL_18fa56a2c41e42a699192c0d67bddc03"
      }
     },
     "15d09dfd66a0452ca36849f372207c3d": {
      "model_module": "@jupyter-widgets/base",
      "model_module_version": "2.0.0",
      "model_name": "LayoutModel",
      "state": {}
     },
     "167d2f329d6d4b4aa37083535ae00082": {
      "model_module": "@jupyter-widgets/base",
      "model_module_version": "2.0.0",
      "model_name": "LayoutModel",
      "state": {}
     },
     "18858141fe8849aeb01d3005444d3350": {
      "model_module": "@jupyter-widgets/controls",
      "model_module_version": "2.0.0",
      "model_name": "HBoxModel",
      "state": {
       "children": [
        "IPY_MODEL_8f36ff77f1c24550941e82e1754f2487",
        "IPY_MODEL_229f364f6dea4777a28ef80773b5a671",
        "IPY_MODEL_029dd39ea86f41ab83c804fff1bb3b6d"
       ],
       "layout": "IPY_MODEL_70a9304007d94e1ebc256fde4c679e79"
      }
     },
     "18e48b7b74ae4e32be606e471c6323af": {
      "model_module": "@jupyter-widgets/controls",
      "model_module_version": "2.0.0",
      "model_name": "HBoxModel",
      "state": {
       "children": [
        "IPY_MODEL_7e7a39de3de4440ab20744df3f1877f9",
        "IPY_MODEL_50ea92d5bccb440dbf22a873c02eb86d",
        "IPY_MODEL_f033c3a95e9e41a89381fc04f618da97"
       ],
       "layout": "IPY_MODEL_644230893d144562ab457ded54936d8e"
      }
     },
     "18fa56a2c41e42a699192c0d67bddc03": {
      "model_module": "@jupyter-widgets/base",
      "model_module_version": "2.0.0",
      "model_name": "LayoutModel",
      "state": {}
     },
     "19b91adc257743ecbd1111313e091edb": {
      "model_module": "@jupyter-widgets/controls",
      "model_module_version": "2.0.0",
      "model_name": "HTMLModel",
      "state": {
       "layout": "IPY_MODEL_7f2529c3c6b246cab4a39773d72acd9f",
       "style": "IPY_MODEL_525227a4ed5742fc96c2d011d6ac9c1a",
       "value": " 0/31 [00:04&lt;?, ?it/s]"
      }
     },
     "1cc289e4e1584c6789bda33107bd0f4a": {
      "model_module": "@jupyter-widgets/base",
      "model_module_version": "2.0.0",
      "model_name": "LayoutModel",
      "state": {}
     },
     "1dabe80449b64e798565ab331114aad1": {
      "model_module": "@jupyter-widgets/base",
      "model_module_version": "2.0.0",
      "model_name": "LayoutModel",
      "state": {}
     },
     "1f193f9bf9f340ab8ad08bc6403d3520": {
      "model_module": "@jupyter-widgets/base",
      "model_module_version": "2.0.0",
      "model_name": "LayoutModel",
      "state": {}
     },
     "20f198e4a41e4810b2470cda29a8014e": {
      "model_module": "@jupyter-widgets/controls",
      "model_module_version": "2.0.0",
      "model_name": "HTMLStyleModel",
      "state": {
       "description_width": "",
       "font_size": null,
       "text_color": null
      }
     },
     "229f364f6dea4777a28ef80773b5a671": {
      "model_module": "@jupyter-widgets/controls",
      "model_module_version": "2.0.0",
      "model_name": "FloatProgressModel",
      "state": {
       "bar_style": "success",
       "layout": "IPY_MODEL_006ef77fc53e4f6c9906a5f64da7af09",
       "max": 31,
       "style": "IPY_MODEL_261753325fea4b159a2dbc6fa2b66065",
       "value": 31
      }
     },
     "2312b02e77e24d53ab8d28dbb619c9c4": {
      "model_module": "@jupyter-widgets/controls",
      "model_module_version": "2.0.0",
      "model_name": "HTMLModel",
      "state": {
       "layout": "IPY_MODEL_bd97f3e3dd624778817ce245b46830c8",
       "style": "IPY_MODEL_09b1deec7f904093aeff6b8be49978dd",
       "value": "  0%"
      }
     },
     "261753325fea4b159a2dbc6fa2b66065": {
      "model_module": "@jupyter-widgets/controls",
      "model_module_version": "2.0.0",
      "model_name": "ProgressStyleModel",
      "state": {
       "description_width": ""
      }
     },
     "282c3b9e9e464e59ae97ba46be6d4577": {
      "model_module": "@jupyter-widgets/base",
      "model_module_version": "2.0.0",
      "model_name": "LayoutModel",
      "state": {}
     },
     "28324d3f51bf4c3e92814edeccf8a4bb": {
      "model_module": "@jupyter-widgets/base",
      "model_module_version": "2.0.0",
      "model_name": "LayoutModel",
      "state": {}
     },
     "29d88ac92e194c8ab93425c32384cbc9": {
      "model_module": "@jupyter-widgets/controls",
      "model_module_version": "2.0.0",
      "model_name": "HTMLModel",
      "state": {
       "layout": "IPY_MODEL_7610d95bb30044cf8febb5c4fcede90a",
       "style": "IPY_MODEL_9e7801f332c547d6b27c1cff33ca2d17",
       "value": " 10/10 [02:40&lt;00:00, 20.78s/it]"
      }
     },
     "2b2000b2c07c4cbd8541b9728c2722ef": {
      "model_module": "@jupyter-widgets/controls",
      "model_module_version": "2.0.0",
      "model_name": "HTMLModel",
      "state": {
       "layout": "IPY_MODEL_282c3b9e9e464e59ae97ba46be6d4577",
       "style": "IPY_MODEL_6d57452f3ffa40d4841952e3175bac63",
       "value": " 0/31 [00:04&lt;?, ?it/s]"
      }
     },
     "2dfc3aad356846e0940bca1e12282435": {
      "model_module": "@jupyter-widgets/controls",
      "model_module_version": "2.0.0",
      "model_name": "HTMLModel",
      "state": {
       "layout": "IPY_MODEL_f3140b8dc63f4e56b4b32089c05e9baf",
       "style": "IPY_MODEL_cf33c7bfe83344f782a978ac1f814a9a",
       "value": "  0%"
      }
     },
     "2f3cc938efd243d9b3d4f8af32449431": {
      "model_module": "@jupyter-widgets/controls",
      "model_module_version": "2.0.0",
      "model_name": "HTMLStyleModel",
      "state": {
       "description_width": "",
       "font_size": null,
       "text_color": null
      }
     },
     "313b76c0017f45a6a6875322f11bd348": {
      "model_module": "@jupyter-widgets/controls",
      "model_module_version": "2.0.0",
      "model_name": "HTMLStyleModel",
      "state": {
       "description_width": "",
       "font_size": null,
       "text_color": null
      }
     },
     "324ba1291da448b8a5277177bc6f848f": {
      "model_module": "@jupyter-widgets/controls",
      "model_module_version": "2.0.0",
      "model_name": "HBoxModel",
      "state": {
       "children": [
        "IPY_MODEL_ea0d2d016d614fbdac5788a41990dba4",
        "IPY_MODEL_555f8bac126a4f0c955abde9dce15a76",
        "IPY_MODEL_837658f05fad4443b37f9e93db4f4178"
       ],
       "layout": "IPY_MODEL_167d2f329d6d4b4aa37083535ae00082"
      }
     },
     "32745360f51649c9b0a65c0aa3fec20f": {
      "model_module": "@jupyter-widgets/controls",
      "model_module_version": "2.0.0",
      "model_name": "ProgressStyleModel",
      "state": {
       "description_width": ""
      }
     },
     "32a38f51455342489dcc16fa0ee425c7": {
      "model_module": "@jupyter-widgets/controls",
      "model_module_version": "2.0.0",
      "model_name": "HTMLStyleModel",
      "state": {
       "description_width": "",
       "font_size": null,
       "text_color": null
      }
     },
     "35524fe8f6c94803b2a3a802e93a6972": {
      "model_module": "@jupyter-widgets/base",
      "model_module_version": "2.0.0",
      "model_name": "LayoutModel",
      "state": {}
     },
     "36adf290aa9f491c85693e72d7b50711": {
      "model_module": "@jupyter-widgets/controls",
      "model_module_version": "2.0.0",
      "model_name": "HTMLModel",
      "state": {
       "layout": "IPY_MODEL_3ecc8f3dcddd4dbcae11f5d852ac1528",
       "style": "IPY_MODEL_71c0323668eb4154bea73e1afb36788d",
       "value": " 0/31 [00:04&lt;?, ?it/s]"
      }
     },
     "395ef003d6f049a79f90bea7671439f0": {
      "model_module": "@jupyter-widgets/base",
      "model_module_version": "2.0.0",
      "model_name": "LayoutModel",
      "state": {}
     },
     "3a4b96985f9044b29a2aaad7e749f5e1": {
      "model_module": "@jupyter-widgets/controls",
      "model_module_version": "2.0.0",
      "model_name": "HTMLModel",
      "state": {
       "layout": "IPY_MODEL_9d147fd009be4962a9504681a705ef54",
       "style": "IPY_MODEL_ff1cf52919c7422a95b50c23e749c5d9",
       "value": "  0%"
      }
     },
     "3b1627254a794d46a59b72341b40a713": {
      "model_module": "@jupyter-widgets/controls",
      "model_module_version": "2.0.0",
      "model_name": "HTMLModel",
      "state": {
       "layout": "IPY_MODEL_4c7b4b9cf54745ca98449e5924de80b4",
       "style": "IPY_MODEL_70805cfec5c84dc2ae406693e2b2e06e",
       "value": "100%"
      }
     },
     "3de94fca8e534f068996292a10abeb2a": {
      "model_module": "@jupyter-widgets/base",
      "model_module_version": "2.0.0",
      "model_name": "LayoutModel",
      "state": {}
     },
     "3ecc8f3dcddd4dbcae11f5d852ac1528": {
      "model_module": "@jupyter-widgets/base",
      "model_module_version": "2.0.0",
      "model_name": "LayoutModel",
      "state": {}
     },
     "463535b4f0314c34a6d63112b2d97b5d": {
      "model_module": "@jupyter-widgets/controls",
      "model_module_version": "2.0.0",
      "model_name": "HTMLStyleModel",
      "state": {
       "description_width": "",
       "font_size": null,
       "text_color": null
      }
     },
     "4707ec68dfcd4e5b9d7bfd027fe6697b": {
      "model_module": "@jupyter-widgets/base",
      "model_module_version": "2.0.0",
      "model_name": "LayoutModel",
      "state": {}
     },
     "49f01b21237d4dfbbd1d0176f69ec086": {
      "model_module": "@jupyter-widgets/base",
      "model_module_version": "2.0.0",
      "model_name": "LayoutModel",
      "state": {}
     },
     "4c7b4b9cf54745ca98449e5924de80b4": {
      "model_module": "@jupyter-widgets/base",
      "model_module_version": "2.0.0",
      "model_name": "LayoutModel",
      "state": {}
     },
     "4cc9860b41604c2a8997bd0e88514154": {
      "model_module": "@jupyter-widgets/base",
      "model_module_version": "2.0.0",
      "model_name": "LayoutModel",
      "state": {}
     },
     "4d57b969ded648aface0c36cd9331c39": {
      "model_module": "@jupyter-widgets/controls",
      "model_module_version": "2.0.0",
      "model_name": "HTMLStyleModel",
      "state": {
       "description_width": "",
       "font_size": null,
       "text_color": null
      }
     },
     "4da9cc9b630740f1af9c1f50d93d413f": {
      "model_module": "@jupyter-widgets/base",
      "model_module_version": "2.0.0",
      "model_name": "LayoutModel",
      "state": {}
     },
     "4dad5a8e0e4d422692fdae6d65d9c0d3": {
      "model_module": "@jupyter-widgets/controls",
      "model_module_version": "2.0.0",
      "model_name": "ProgressStyleModel",
      "state": {
       "description_width": ""
      }
     },
     "4dc058e98466484bb7f3dda60352b92d": {
      "model_module": "@jupyter-widgets/controls",
      "model_module_version": "2.0.0",
      "model_name": "FloatProgressModel",
      "state": {
       "bar_style": "danger",
       "layout": "IPY_MODEL_9d5a4392b35c40fe9843c2f76fa16948",
       "max": 31,
       "style": "IPY_MODEL_69c19dd6eee9420db3d4a445ad7bd8dd"
      }
     },
     "505cab20f9434fe9aab0677433aa2d4a": {
      "model_module": "@jupyter-widgets/base",
      "model_module_version": "2.0.0",
      "model_name": "LayoutModel",
      "state": {}
     },
     "50ea92d5bccb440dbf22a873c02eb86d": {
      "model_module": "@jupyter-widgets/controls",
      "model_module_version": "2.0.0",
      "model_name": "FloatProgressModel",
      "state": {
       "bar_style": "danger",
       "layout": "IPY_MODEL_0892c4c033d44231a4b782206ff5c37d",
       "max": 10,
       "style": "IPY_MODEL_821bc6a13ebc432fbcca8cf69bb437c0",
       "value": 3
      }
     },
     "51c48bfd436a48a5869a68562d2e0fd1": {
      "model_module": "@jupyter-widgets/controls",
      "model_module_version": "2.0.0",
      "model_name": "FloatProgressModel",
      "state": {
       "bar_style": "success",
       "layout": "IPY_MODEL_4cc9860b41604c2a8997bd0e88514154",
       "max": 10,
       "style": "IPY_MODEL_f9db1b5e82924b71807263d8145cc9e7",
       "value": 10
      }
     },
     "525227a4ed5742fc96c2d011d6ac9c1a": {
      "model_module": "@jupyter-widgets/controls",
      "model_module_version": "2.0.0",
      "model_name": "HTMLStyleModel",
      "state": {
       "description_width": "",
       "font_size": null,
       "text_color": null
      }
     },
     "536fde42d02c4287913f4cf4dc4bea44": {
      "model_module": "@jupyter-widgets/controls",
      "model_module_version": "2.0.0",
      "model_name": "HTMLStyleModel",
      "state": {
       "description_width": "",
       "font_size": null,
       "text_color": null
      }
     },
     "53ca3fe670a74c1c81f37c286ca133d0": {
      "model_module": "@jupyter-widgets/controls",
      "model_module_version": "2.0.0",
      "model_name": "HBoxModel",
      "state": {
       "children": [
        "IPY_MODEL_91e45003e9554aba8eb3c3c07cfd9e8d",
        "IPY_MODEL_9ca9e3faa62a41f093cd795165aa71e6",
        "IPY_MODEL_36adf290aa9f491c85693e72d7b50711"
       ],
       "layout": "IPY_MODEL_f04a0d9304c64ff1b5cc53b7bec999ee"
      }
     },
     "5411e44f3f204409bed99b7d0331505f": {
      "model_module": "@jupyter-widgets/controls",
      "model_module_version": "2.0.0",
      "model_name": "FloatProgressModel",
      "state": {
       "bar_style": "danger",
       "layout": "IPY_MODEL_ecaab69d991b43d6a395885081662704",
       "max": 31,
       "style": "IPY_MODEL_8800da3e398c4a0c890dd98baf8969fc"
      }
     },
     "555f8bac126a4f0c955abde9dce15a76": {
      "model_module": "@jupyter-widgets/controls",
      "model_module_version": "2.0.0",
      "model_name": "FloatProgressModel",
      "state": {
       "bar_style": "success",
       "layout": "IPY_MODEL_4da9cc9b630740f1af9c1f50d93d413f",
       "max": 10,
       "style": "IPY_MODEL_d9b5b6082b3342f6ad0e6aab754d0e6b",
       "value": 10
      }
     },
     "56fa474a10a2478681817998957632eb": {
      "model_module": "@jupyter-widgets/controls",
      "model_module_version": "2.0.0",
      "model_name": "HTMLStyleModel",
      "state": {
       "description_width": "",
       "font_size": null,
       "text_color": null
      }
     },
     "5cdbb18d2d9a4014bf5d42efde0b8155": {
      "model_module": "@jupyter-widgets/base",
      "model_module_version": "2.0.0",
      "model_name": "LayoutModel",
      "state": {}
     },
     "644230893d144562ab457ded54936d8e": {
      "model_module": "@jupyter-widgets/base",
      "model_module_version": "2.0.0",
      "model_name": "LayoutModel",
      "state": {}
     },
     "697accdd9d0044129811658e4d813e78": {
      "model_module": "@jupyter-widgets/base",
      "model_module_version": "2.0.0",
      "model_name": "LayoutModel",
      "state": {}
     },
     "69c19dd6eee9420db3d4a445ad7bd8dd": {
      "model_module": "@jupyter-widgets/controls",
      "model_module_version": "2.0.0",
      "model_name": "ProgressStyleModel",
      "state": {
       "description_width": ""
      }
     },
     "6d0ea59403a041dea920596391d506e4": {
      "model_module": "@jupyter-widgets/controls",
      "model_module_version": "2.0.0",
      "model_name": "ProgressStyleModel",
      "state": {
       "description_width": ""
      }
     },
     "6d11cba2e490420691bd47ad74cd01f1": {
      "model_module": "@jupyter-widgets/controls",
      "model_module_version": "2.0.0",
      "model_name": "HTMLModel",
      "state": {
       "layout": "IPY_MODEL_7567078d853b41539f2815757241a974",
       "style": "IPY_MODEL_32a38f51455342489dcc16fa0ee425c7",
       "value": "  0%"
      }
     },
     "6d57452f3ffa40d4841952e3175bac63": {
      "model_module": "@jupyter-widgets/controls",
      "model_module_version": "2.0.0",
      "model_name": "HTMLStyleModel",
      "state": {
       "description_width": "",
       "font_size": null,
       "text_color": null
      }
     },
     "70805cfec5c84dc2ae406693e2b2e06e": {
      "model_module": "@jupyter-widgets/controls",
      "model_module_version": "2.0.0",
      "model_name": "HTMLStyleModel",
      "state": {
       "description_width": "",
       "font_size": null,
       "text_color": null
      }
     },
     "70a9304007d94e1ebc256fde4c679e79": {
      "model_module": "@jupyter-widgets/base",
      "model_module_version": "2.0.0",
      "model_name": "LayoutModel",
      "state": {}
     },
     "718d89368b2849d5b60c718f5e40815c": {
      "model_module": "@jupyter-widgets/base",
      "model_module_version": "2.0.0",
      "model_name": "LayoutModel",
      "state": {}
     },
     "71c0323668eb4154bea73e1afb36788d": {
      "model_module": "@jupyter-widgets/controls",
      "model_module_version": "2.0.0",
      "model_name": "HTMLStyleModel",
      "state": {
       "description_width": "",
       "font_size": null,
       "text_color": null
      }
     },
     "74bc377f900748d6a2bfa52cf382ca30": {
      "model_module": "@jupyter-widgets/controls",
      "model_module_version": "2.0.0",
      "model_name": "ProgressStyleModel",
      "state": {
       "description_width": ""
      }
     },
     "7567078d853b41539f2815757241a974": {
      "model_module": "@jupyter-widgets/base",
      "model_module_version": "2.0.0",
      "model_name": "LayoutModel",
      "state": {}
     },
     "7610d95bb30044cf8febb5c4fcede90a": {
      "model_module": "@jupyter-widgets/base",
      "model_module_version": "2.0.0",
      "model_name": "LayoutModel",
      "state": {}
     },
     "772cb2f89f8d40d6a187ebfc96057d73": {
      "model_module": "@jupyter-widgets/controls",
      "model_module_version": "2.0.0",
      "model_name": "HBoxModel",
      "state": {
       "children": [
        "IPY_MODEL_a37c864a30bd4f80a435914c345e3ea1",
        "IPY_MODEL_c921a00cc65e44fda411566378ceee5f",
        "IPY_MODEL_edd2d51a4f2d4496ac375b193bdd93e4"
       ],
       "layout": "IPY_MODEL_80d53c2fb6bd462ab281ade5a993743d"
      }
     },
     "78082367533c466fb9cfe59dfa2d38b0": {
      "model_module": "@jupyter-widgets/controls",
      "model_module_version": "2.0.0",
      "model_name": "HBoxModel",
      "state": {
       "children": [
        "IPY_MODEL_08b938c6584f4a76a80a45d9261a727e",
        "IPY_MODEL_4dc058e98466484bb7f3dda60352b92d",
        "IPY_MODEL_fe139af87a5e421c8a57cea48f26c784"
       ],
       "layout": "IPY_MODEL_d4c6fbb30507464e9ffee2acc98d220f"
      }
     },
     "7cda5c59dee640c597ae88ac50d6fea3": {
      "model_module": "@jupyter-widgets/base",
      "model_module_version": "2.0.0",
      "model_name": "LayoutModel",
      "state": {}
     },
     "7e7a39de3de4440ab20744df3f1877f9": {
      "model_module": "@jupyter-widgets/controls",
      "model_module_version": "2.0.0",
      "model_name": "HTMLModel",
      "state": {
       "layout": "IPY_MODEL_35524fe8f6c94803b2a3a802e93a6972",
       "style": "IPY_MODEL_b4a3e789376c4a6284df5bb620069dd6",
       "value": " 30%"
      }
     },
     "7f2529c3c6b246cab4a39773d72acd9f": {
      "model_module": "@jupyter-widgets/base",
      "model_module_version": "2.0.0",
      "model_name": "LayoutModel",
      "state": {}
     },
     "7fec595e0d464da287db424f467dbd7e": {
      "model_module": "@jupyter-widgets/base",
      "model_module_version": "2.0.0",
      "model_name": "LayoutModel",
      "state": {}
     },
     "80d53c2fb6bd462ab281ade5a993743d": {
      "model_module": "@jupyter-widgets/base",
      "model_module_version": "2.0.0",
      "model_name": "LayoutModel",
      "state": {}
     },
     "821bc6a13ebc432fbcca8cf69bb437c0": {
      "model_module": "@jupyter-widgets/controls",
      "model_module_version": "2.0.0",
      "model_name": "ProgressStyleModel",
      "state": {
       "description_width": ""
      }
     },
     "837658f05fad4443b37f9e93db4f4178": {
      "model_module": "@jupyter-widgets/controls",
      "model_module_version": "2.0.0",
      "model_name": "HTMLModel",
      "state": {
       "layout": "IPY_MODEL_4707ec68dfcd4e5b9d7bfd027fe6697b",
       "style": "IPY_MODEL_536fde42d02c4287913f4cf4dc4bea44",
       "value": " 10/10 [02:38&lt;00:00, 20.52s/it]"
      }
     },
     "84c5006533394e978a25e1a63b1bbfd7": {
      "model_module": "@jupyter-widgets/base",
      "model_module_version": "2.0.0",
      "model_name": "LayoutModel",
      "state": {}
     },
     "85168f79c4d2422e8c4fa1085d751e3e": {
      "model_module": "@jupyter-widgets/controls",
      "model_module_version": "2.0.0",
      "model_name": "HBoxModel",
      "state": {
       "children": [
        "IPY_MODEL_a88aecd390ad4ccab4ed2ad8a5185314",
        "IPY_MODEL_5411e44f3f204409bed99b7d0331505f",
        "IPY_MODEL_fab2baa3b90245a18f35267925b68a56"
       ],
       "layout": "IPY_MODEL_c3a8638ff1394e409c01b847b261cf36"
      }
     },
     "874b8674b5644218ad7ac98ee5b05273": {
      "model_module": "@jupyter-widgets/controls",
      "model_module_version": "2.0.0",
      "model_name": "HBoxModel",
      "state": {
       "children": [
        "IPY_MODEL_2312b02e77e24d53ab8d28dbb619c9c4",
        "IPY_MODEL_ef1458184f8646518533e699d8b6fc33",
        "IPY_MODEL_0523ead2e41d4cf892da5113fc7c8253"
       ],
       "layout": "IPY_MODEL_15d09dfd66a0452ca36849f372207c3d"
      }
     },
     "8800da3e398c4a0c890dd98baf8969fc": {
      "model_module": "@jupyter-widgets/controls",
      "model_module_version": "2.0.0",
      "model_name": "ProgressStyleModel",
      "state": {
       "description_width": ""
      }
     },
     "8de3002789d14310b804edf89e72d5d7": {
      "model_module": "@jupyter-widgets/controls",
      "model_module_version": "2.0.0",
      "model_name": "FloatProgressModel",
      "state": {
       "bar_style": "danger",
       "layout": "IPY_MODEL_1f193f9bf9f340ab8ad08bc6403d3520",
       "max": 31,
       "style": "IPY_MODEL_e9b0276da1854e79bb9aa4b4093a229f"
      }
     },
     "8f36ff77f1c24550941e82e1754f2487": {
      "model_module": "@jupyter-widgets/controls",
      "model_module_version": "2.0.0",
      "model_name": "HTMLModel",
      "state": {
       "layout": "IPY_MODEL_505cab20f9434fe9aab0677433aa2d4a",
       "style": "IPY_MODEL_463535b4f0314c34a6d63112b2d97b5d",
       "value": "100%"
      }
     },
     "902aa32162c24149bba11d96813bba25": {
      "model_module": "@jupyter-widgets/base",
      "model_module_version": "2.0.0",
      "model_name": "LayoutModel",
      "state": {}
     },
     "91e45003e9554aba8eb3c3c07cfd9e8d": {
      "model_module": "@jupyter-widgets/controls",
      "model_module_version": "2.0.0",
      "model_name": "HTMLModel",
      "state": {
       "layout": "IPY_MODEL_0d25b82c3a1945b681118f2c49819108",
       "style": "IPY_MODEL_0453ff22c2b648648378eb0ffe6881b3",
       "value": "  0%"
      }
     },
     "935b228faaae4e98a58b4cedbdf0fb16": {
      "model_module": "@jupyter-widgets/base",
      "model_module_version": "2.0.0",
      "model_name": "LayoutModel",
      "state": {}
     },
     "96e55c2d3a8f4ee3a123d294d027d1f2": {
      "model_module": "@jupyter-widgets/controls",
      "model_module_version": "2.0.0",
      "model_name": "HTMLStyleModel",
      "state": {
       "description_width": "",
       "font_size": null,
       "text_color": null
      }
     },
     "9a4b35fc412e4be58d6e4ad792a44e59": {
      "model_module": "@jupyter-widgets/controls",
      "model_module_version": "2.0.0",
      "model_name": "HTMLModel",
      "state": {
       "layout": "IPY_MODEL_a7486fde050e41798c778cab3cc72843",
       "style": "IPY_MODEL_022c6a16c5c24a29bdfaf8e3e8a85641",
       "value": " 0/31 [00:04&lt;?, ?it/s]"
      }
     },
     "9ca9e3faa62a41f093cd795165aa71e6": {
      "model_module": "@jupyter-widgets/controls",
      "model_module_version": "2.0.0",
      "model_name": "FloatProgressModel",
      "state": {
       "bar_style": "danger",
       "layout": "IPY_MODEL_49f01b21237d4dfbbd1d0176f69ec086",
       "max": 31,
       "style": "IPY_MODEL_04ecb9d2822d40e1881e4a7587f76e8d"
      }
     },
     "9d147fd009be4962a9504681a705ef54": {
      "model_module": "@jupyter-widgets/base",
      "model_module_version": "2.0.0",
      "model_name": "LayoutModel",
      "state": {}
     },
     "9d15cf7ad3874dae842e9dbd7cabf94e": {
      "model_module": "@jupyter-widgets/controls",
      "model_module_version": "2.0.0",
      "model_name": "HTMLModel",
      "state": {
       "layout": "IPY_MODEL_7cda5c59dee640c597ae88ac50d6fea3",
       "style": "IPY_MODEL_4d57b969ded648aface0c36cd9331c39",
       "value": "  0%"
      }
     },
     "9d5a4392b35c40fe9843c2f76fa16948": {
      "model_module": "@jupyter-widgets/base",
      "model_module_version": "2.0.0",
      "model_name": "LayoutModel",
      "state": {}
     },
     "9e0ac02626f64c1db88bf53f5fcb2d88": {
      "model_module": "@jupyter-widgets/base",
      "model_module_version": "2.0.0",
      "model_name": "LayoutModel",
      "state": {}
     },
     "9e7801f332c547d6b27c1cff33ca2d17": {
      "model_module": "@jupyter-widgets/controls",
      "model_module_version": "2.0.0",
      "model_name": "HTMLStyleModel",
      "state": {
       "description_width": "",
       "font_size": null,
       "text_color": null
      }
     },
     "9efa25eb99a34ca4a4801ff3cf2113fb": {
      "model_module": "@jupyter-widgets/base",
      "model_module_version": "2.0.0",
      "model_name": "LayoutModel",
      "state": {}
     },
     "a20fe3c6973044a08d86b55a14a15a31": {
      "model_module": "@jupyter-widgets/base",
      "model_module_version": "2.0.0",
      "model_name": "LayoutModel",
      "state": {}
     },
     "a37c864a30bd4f80a435914c345e3ea1": {
      "model_module": "@jupyter-widgets/controls",
      "model_module_version": "2.0.0",
      "model_name": "HTMLModel",
      "state": {
       "layout": "IPY_MODEL_f347bdcbeec0476790d3d3d87c9e8d33",
       "style": "IPY_MODEL_f8d12131b2f2439691609cd434e0b70c",
       "value": "  0%"
      }
     },
     "a55bd4798bfd4991bf8eea61329125b5": {
      "model_module": "@jupyter-widgets/base",
      "model_module_version": "2.0.0",
      "model_name": "LayoutModel",
      "state": {}
     },
     "a7486fde050e41798c778cab3cc72843": {
      "model_module": "@jupyter-widgets/base",
      "model_module_version": "2.0.0",
      "model_name": "LayoutModel",
      "state": {}
     },
     "a88aecd390ad4ccab4ed2ad8a5185314": {
      "model_module": "@jupyter-widgets/controls",
      "model_module_version": "2.0.0",
      "model_name": "HTMLModel",
      "state": {
       "layout": "IPY_MODEL_935b228faaae4e98a58b4cedbdf0fb16",
       "style": "IPY_MODEL_b87a6214649a4a2b9b911ea3fce96950",
       "value": "  0%"
      }
     },
     "ad8450797b1e4e329c4235694da51fa4": {
      "model_module": "@jupyter-widgets/controls",
      "model_module_version": "2.0.0",
      "model_name": "HTMLModel",
      "state": {
       "layout": "IPY_MODEL_84c5006533394e978a25e1a63b1bbfd7",
       "style": "IPY_MODEL_de8b081b99654710b43a38400e784327",
       "value": " 10/10 [02:43&lt;00:00, 21.48s/it]"
      }
     },
     "b0ab0d863fce4394aa389c312e660dae": {
      "model_module": "@jupyter-widgets/controls",
      "model_module_version": "2.0.0",
      "model_name": "HBoxModel",
      "state": {
       "children": [
        "IPY_MODEL_0b93d4e0ed5047cbb5eba9bb66b6a87e",
        "IPY_MODEL_51c48bfd436a48a5869a68562d2e0fd1",
        "IPY_MODEL_ad8450797b1e4e329c4235694da51fa4"
       ],
       "layout": "IPY_MODEL_9e0ac02626f64c1db88bf53f5fcb2d88"
      }
     },
     "b226f075106a425fb09eed1217f3758f": {
      "model_module": "@jupyter-widgets/controls",
      "model_module_version": "2.0.0",
      "model_name": "HTMLStyleModel",
      "state": {
       "description_width": "",
       "font_size": null,
       "text_color": null
      }
     },
     "b4a3e789376c4a6284df5bb620069dd6": {
      "model_module": "@jupyter-widgets/controls",
      "model_module_version": "2.0.0",
      "model_name": "HTMLStyleModel",
      "state": {
       "description_width": "",
       "font_size": null,
       "text_color": null
      }
     },
     "b87a6214649a4a2b9b911ea3fce96950": {
      "model_module": "@jupyter-widgets/controls",
      "model_module_version": "2.0.0",
      "model_name": "HTMLStyleModel",
      "state": {
       "description_width": "",
       "font_size": null,
       "text_color": null
      }
     },
     "bd97f3e3dd624778817ce245b46830c8": {
      "model_module": "@jupyter-widgets/base",
      "model_module_version": "2.0.0",
      "model_name": "LayoutModel",
      "state": {}
     },
     "c3a8638ff1394e409c01b847b261cf36": {
      "model_module": "@jupyter-widgets/base",
      "model_module_version": "2.0.0",
      "model_name": "LayoutModel",
      "state": {}
     },
     "c921a00cc65e44fda411566378ceee5f": {
      "model_module": "@jupyter-widgets/controls",
      "model_module_version": "2.0.0",
      "model_name": "FloatProgressModel",
      "state": {
       "bar_style": "danger",
       "layout": "IPY_MODEL_3de94fca8e534f068996292a10abeb2a",
       "max": 31,
       "style": "IPY_MODEL_f1ac31dc0f0d4679b39fce30fc6b3f05"
      }
     },
     "ce261b0a3b794726aee1b6af630a80fe": {
      "model_module": "@jupyter-widgets/controls",
      "model_module_version": "2.0.0",
      "model_name": "HBoxModel",
      "state": {
       "children": [
        "IPY_MODEL_6d11cba2e490420691bd47ad74cd01f1",
        "IPY_MODEL_e6636f2c42d94d84ab22c593af85612e",
        "IPY_MODEL_9a4b35fc412e4be58d6e4ad792a44e59"
       ],
       "layout": "IPY_MODEL_a55bd4798bfd4991bf8eea61329125b5"
      }
     },
     "cf33c7bfe83344f782a978ac1f814a9a": {
      "model_module": "@jupyter-widgets/controls",
      "model_module_version": "2.0.0",
      "model_name": "HTMLStyleModel",
      "state": {
       "description_width": "",
       "font_size": null,
       "text_color": null
      }
     },
     "d2cc685a22114dd690c2ebf3c765883b": {
      "model_module": "@jupyter-widgets/base",
      "model_module_version": "2.0.0",
      "model_name": "LayoutModel",
      "state": {}
     },
     "d2fe84653cbd454f9e6cadabd57873c4": {
      "model_module": "@jupyter-widgets/controls",
      "model_module_version": "2.0.0",
      "model_name": "HTMLModel",
      "state": {
       "layout": "IPY_MODEL_f95095f23fcb4cf9bba293838a7a5ecf",
       "style": "IPY_MODEL_20f198e4a41e4810b2470cda29a8014e",
       "value": " 0/31 [00:04&lt;?, ?it/s]"
      }
     },
     "d4c6fbb30507464e9ffee2acc98d220f": {
      "model_module": "@jupyter-widgets/base",
      "model_module_version": "2.0.0",
      "model_name": "LayoutModel",
      "state": {}
     },
     "d70b14a5019c4b959c0378ce3ba82778": {
      "model_module": "@jupyter-widgets/controls",
      "model_module_version": "2.0.0",
      "model_name": "HBoxModel",
      "state": {
       "children": [
        "IPY_MODEL_3b1627254a794d46a59b72341b40a713",
        "IPY_MODEL_01b0c70bc1b747af8142951e94cf088f",
        "IPY_MODEL_29d88ac92e194c8ab93425c32384cbc9"
       ],
       "layout": "IPY_MODEL_395ef003d6f049a79f90bea7671439f0"
      }
     },
     "d9b5b6082b3342f6ad0e6aab754d0e6b": {
      "model_module": "@jupyter-widgets/controls",
      "model_module_version": "2.0.0",
      "model_name": "ProgressStyleModel",
      "state": {
       "description_width": ""
      }
     },
     "d9ba29be3e744d57bb1fc82443605708": {
      "model_module": "@jupyter-widgets/controls",
      "model_module_version": "2.0.0",
      "model_name": "HTMLStyleModel",
      "state": {
       "description_width": "",
       "font_size": null,
       "text_color": null
      }
     },
     "dd7fbb5e10f94c809bc07c52164c7c44": {
      "model_module": "@jupyter-widgets/controls",
      "model_module_version": "2.0.0",
      "model_name": "HBoxModel",
      "state": {
       "children": [
        "IPY_MODEL_3a4b96985f9044b29a2aaad7e749f5e1",
        "IPY_MODEL_8de3002789d14310b804edf89e72d5d7",
        "IPY_MODEL_19b91adc257743ecbd1111313e091edb"
       ],
       "layout": "IPY_MODEL_053ac932cd7e411c9e64423777b5dc3a"
      }
     },
     "ddf76a8630454cabb8ffa45c47fd9506": {
      "model_module": "@jupyter-widgets/controls",
      "model_module_version": "2.0.0",
      "model_name": "HTMLStyleModel",
      "state": {
       "description_width": "",
       "font_size": null,
       "text_color": null
      }
     },
     "de8b081b99654710b43a38400e784327": {
      "model_module": "@jupyter-widgets/controls",
      "model_module_version": "2.0.0",
      "model_name": "HTMLStyleModel",
      "state": {
       "description_width": "",
       "font_size": null,
       "text_color": null
      }
     },
     "e6636f2c42d94d84ab22c593af85612e": {
      "model_module": "@jupyter-widgets/controls",
      "model_module_version": "2.0.0",
      "model_name": "FloatProgressModel",
      "state": {
       "bar_style": "danger",
       "layout": "IPY_MODEL_f91d4ddf9b9f455ca25952ec4c6a061c",
       "max": 31,
       "style": "IPY_MODEL_74bc377f900748d6a2bfa52cf382ca30"
      }
     },
     "e9b0276da1854e79bb9aa4b4093a229f": {
      "model_module": "@jupyter-widgets/controls",
      "model_module_version": "2.0.0",
      "model_name": "ProgressStyleModel",
      "state": {
       "description_width": ""
      }
     },
     "ea0d2d016d614fbdac5788a41990dba4": {
      "model_module": "@jupyter-widgets/controls",
      "model_module_version": "2.0.0",
      "model_name": "HTMLModel",
      "state": {
       "layout": "IPY_MODEL_718d89368b2849d5b60c718f5e40815c",
       "style": "IPY_MODEL_96e55c2d3a8f4ee3a123d294d027d1f2",
       "value": "100%"
      }
     },
     "ecaab69d991b43d6a395885081662704": {
      "model_module": "@jupyter-widgets/base",
      "model_module_version": "2.0.0",
      "model_name": "LayoutModel",
      "state": {}
     },
     "ecab2e56a5914b58af02e512288e35ae": {
      "model_module": "@jupyter-widgets/controls",
      "model_module_version": "2.0.0",
      "model_name": "FloatProgressModel",
      "state": {
       "bar_style": "danger",
       "layout": "IPY_MODEL_1dabe80449b64e798565ab331114aad1",
       "max": 31,
       "style": "IPY_MODEL_32745360f51649c9b0a65c0aa3fec20f"
      }
     },
     "edd2d51a4f2d4496ac375b193bdd93e4": {
      "model_module": "@jupyter-widgets/controls",
      "model_module_version": "2.0.0",
      "model_name": "HTMLModel",
      "state": {
       "layout": "IPY_MODEL_d2cc685a22114dd690c2ebf3c765883b",
       "style": "IPY_MODEL_b226f075106a425fb09eed1217f3758f",
       "value": " 0/31 [00:04&lt;?, ?it/s]"
      }
     },
     "ef1458184f8646518533e699d8b6fc33": {
      "model_module": "@jupyter-widgets/controls",
      "model_module_version": "2.0.0",
      "model_name": "FloatProgressModel",
      "state": {
       "bar_style": "danger",
       "layout": "IPY_MODEL_11b60b12650e402a95d787ca367d545a",
       "max": 31,
       "style": "IPY_MODEL_f433acfd963f4771b7d3764536beec47"
      }
     },
     "f033c3a95e9e41a89381fc04f618da97": {
      "model_module": "@jupyter-widgets/controls",
      "model_module_version": "2.0.0",
      "model_name": "HTMLModel",
      "state": {
       "layout": "IPY_MODEL_a20fe3c6973044a08d86b55a14a15a31",
       "style": "IPY_MODEL_d9ba29be3e744d57bb1fc82443605708",
       "value": " 3/10 [00:26&lt;00:37,  5.33s/it]"
      }
     },
     "f04a0d9304c64ff1b5cc53b7bec999ee": {
      "model_module": "@jupyter-widgets/base",
      "model_module_version": "2.0.0",
      "model_name": "LayoutModel",
      "state": {}
     },
     "f1ac31dc0f0d4679b39fce30fc6b3f05": {
      "model_module": "@jupyter-widgets/controls",
      "model_module_version": "2.0.0",
      "model_name": "ProgressStyleModel",
      "state": {
       "description_width": ""
      }
     },
     "f3140b8dc63f4e56b4b32089c05e9baf": {
      "model_module": "@jupyter-widgets/base",
      "model_module_version": "2.0.0",
      "model_name": "LayoutModel",
      "state": {}
     },
     "f347bdcbeec0476790d3d3d87c9e8d33": {
      "model_module": "@jupyter-widgets/base",
      "model_module_version": "2.0.0",
      "model_name": "LayoutModel",
      "state": {}
     },
     "f433acfd963f4771b7d3764536beec47": {
      "model_module": "@jupyter-widgets/controls",
      "model_module_version": "2.0.0",
      "model_name": "ProgressStyleModel",
      "state": {
       "description_width": ""
      }
     },
     "f5df4019468c41859a928f0b1f5411ef": {
      "model_module": "@jupyter-widgets/controls",
      "model_module_version": "2.0.0",
      "model_name": "HTMLStyleModel",
      "state": {
       "description_width": "",
       "font_size": null,
       "text_color": null
      }
     },
     "f8d12131b2f2439691609cd434e0b70c": {
      "model_module": "@jupyter-widgets/controls",
      "model_module_version": "2.0.0",
      "model_name": "HTMLStyleModel",
      "state": {
       "description_width": "",
       "font_size": null,
       "text_color": null
      }
     },
     "f91d4ddf9b9f455ca25952ec4c6a061c": {
      "model_module": "@jupyter-widgets/base",
      "model_module_version": "2.0.0",
      "model_name": "LayoutModel",
      "state": {}
     },
     "f95095f23fcb4cf9bba293838a7a5ecf": {
      "model_module": "@jupyter-widgets/base",
      "model_module_version": "2.0.0",
      "model_name": "LayoutModel",
      "state": {}
     },
     "f9db1b5e82924b71807263d8145cc9e7": {
      "model_module": "@jupyter-widgets/controls",
      "model_module_version": "2.0.0",
      "model_name": "ProgressStyleModel",
      "state": {
       "description_width": ""
      }
     },
     "fab2baa3b90245a18f35267925b68a56": {
      "model_module": "@jupyter-widgets/controls",
      "model_module_version": "2.0.0",
      "model_name": "HTMLModel",
      "state": {
       "layout": "IPY_MODEL_7fec595e0d464da287db424f467dbd7e",
       "style": "IPY_MODEL_2f3cc938efd243d9b3d4f8af32449431",
       "value": " 0/31 [00:04&lt;?, ?it/s]"
      }
     },
     "fe139af87a5e421c8a57cea48f26c784": {
      "model_module": "@jupyter-widgets/controls",
      "model_module_version": "2.0.0",
      "model_name": "HTMLModel",
      "state": {
       "layout": "IPY_MODEL_feb75d0c38d049b894463ebf9afc3117",
       "style": "IPY_MODEL_020561f3d2104f419a6ff92ab390c2e6",
       "value": " 0/31 [00:04&lt;?, ?it/s]"
      }
     },
     "feb75d0c38d049b894463ebf9afc3117": {
      "model_module": "@jupyter-widgets/base",
      "model_module_version": "2.0.0",
      "model_name": "LayoutModel",
      "state": {}
     },
     "fec016a76ee24cdc93ec673842b455e5": {
      "model_module": "@jupyter-widgets/controls",
      "model_module_version": "2.0.0",
      "model_name": "FloatProgressModel",
      "state": {
       "bar_style": "danger",
       "layout": "IPY_MODEL_697accdd9d0044129811658e4d813e78",
       "max": 31,
       "style": "IPY_MODEL_6d0ea59403a041dea920596391d506e4"
      }
     },
     "ff1cf52919c7422a95b50c23e749c5d9": {
      "model_module": "@jupyter-widgets/controls",
      "model_module_version": "2.0.0",
      "model_name": "HTMLStyleModel",
      "state": {
       "description_width": "",
       "font_size": null,
       "text_color": null
      }
     }
    },
    "version_major": 2,
    "version_minor": 0
   }
  }
 },
 "nbformat": 4,
 "nbformat_minor": 5
}
